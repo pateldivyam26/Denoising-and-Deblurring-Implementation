{
 "cells": [
  {
   "cell_type": "markdown",
   "metadata": {},
   "source": [
    "# FUNCTIONS"
   ]
  },
  {
   "cell_type": "markdown",
   "metadata": {},
   "source": [
    "### *Importing Libraries*"
   ]
  },
  {
   "cell_type": "code",
   "execution_count": 318,
   "metadata": {},
   "outputs": [],
   "source": [
    "import numpy as np\n",
    "import math\n",
    "import matplotlib.pyplot as plt\n",
    "import pandas as pd"
   ]
  },
  {
   "cell_type": "markdown",
   "metadata": {},
   "source": [
    "## Fourier Transform \n",
    "$ \\tilde{x}[n] = \\sum \\limits _{k=0} ^{N-1} a_k  e^{jk \\frac{2\\pi}{N} n}$\\\n",
    "$ a_k = \\frac{1}{N} \\sum \\limits _{n=-N_1} ^{N_2} \\tilde{x}[n] e^{-jk \\frac{2\\pi}{N} n}$\n",
    "$ = \\frac{1}{N} \\sum \\limits _{n=-\\infty} ^{\\infty} x[n] e^{jk \\frac{2\\pi}{N} n}$\\\n",
    "$ X(e^{jkw_0}) = a_k N$"
   ]
  },
  {
   "cell_type": "code",
   "execution_count": 319,
   "metadata": {},
   "outputs": [],
   "source": [
    "def fourier(y,N):\n",
    "    Y_1=np.zeros(N)\n",
    "    Y=Y_1.astype(complex)\n",
    "\n",
    "    for i in range(N):\n",
    "        for k in range(N):\n",
    "            Y[i]+=y[k]*np.exp(-1*(0+1j)*math.pi*2/N*i*k)\n",
    "    return Y"
   ]
  },
  {
   "cell_type": "markdown",
   "metadata": {},
   "source": [
    "## Fourier Transform for Time Delayed Input\n",
    "$\\mathcal{F} (x[n-n_0]) = X(e^{jkw_0})e^{-jkw_0n_0}$ where $\\mathcal{F}$ represents Fourier Transform"
   ]
  },
  {
   "cell_type": "code",
   "execution_count": 320,
   "metadata": {},
   "outputs": [],
   "source": [
    "def fourier_translate(y,N,t):\n",
    "    Y_1=np.zeros(N )\n",
    "    Y=Y_1.astype(complex)\n",
    "\n",
    "    for i in range(N):\n",
    "        for k in range(N):\n",
    "            Y[i]=Y[i]+y[k]*np.exp(-1*(0+1j)*math.pi*2/N*(i)*(k-t))\n",
    "    return Y"
   ]
  },
  {
   "cell_type": "markdown",
   "metadata": {},
   "source": [
    "## Inverse Fourier Transform\n",
    "$ \\tilde{x}[n] = \\sum \\limits _{k=0} ^{N-1} \\frac{1}{N} X(e^{jkw_0}) e^{jkw_0 n}$\n",
    "$ = \\frac{1}{2\\pi} \\sum \\limits _{k=0} ^{N-1} X(e^{jkw_0}) e^{jkw_0 n} w_0$"
   ]
  },
  {
   "cell_type": "code",
   "execution_count": 321,
   "metadata": {},
   "outputs": [],
   "source": [
    "def inv_fourier(Y,n):\n",
    "        y_1=np.zeros(n)\n",
    "        y=y_1.astype(complex)\n",
    "        \n",
    "        for i in range(n):\n",
    "            for k in range(n):\n",
    "                y[i]+=Y[k]*(1/n)*np.exp((0+1j)*math.pi*2/n*k*i)\n",
    "        return y"
   ]
  },
  {
   "cell_type": "markdown",
   "metadata": {},
   "source": [
    "## Periodic extention and Retrieval\n",
    "$ \\tilde{x}[n] $ is the periodic extension of $ x[n] $ of length $ N $ and it is found by making other values of $ n $ zero \n",
    "![x](./X.png)\\\n",
    "![x](./X_T.png)"
   ]
  },
  {
   "cell_type": "markdown",
   "metadata": {},
   "source": [
    "Converts $x[n]$ to $\\tilde{x}[n]$"
   ]
  },
  {
   "cell_type": "code",
   "execution_count": 322,
   "metadata": {},
   "outputs": [],
   "source": [
    "def periodic_extension(y,N): \n",
    "    y_in_1=np.zeros(N )\n",
    "    y_in =y_in_1.astype(complex)\n",
    "\n",
    "    for i in range(N):\n",
    "        if i<y.size-1:\n",
    "            y_in[i]+=y[i]\n",
    "    return y_in"
   ]
  },
  {
   "cell_type": "markdown",
   "metadata": {},
   "source": [
    "Converts $\\tilde{x}[n]$ to $x[n]$"
   ]
  },
  {
   "cell_type": "code",
   "execution_count": 323,
   "metadata": {},
   "outputs": [],
   "source": [
    "def retrieve(y,n):\n",
    "    y_out = np.zeros(n)\n",
    "    for i in range(n):\n",
    "        y_out[i]=y[i]\n",
    "    return y_out"
   ]
  },
  {
   "cell_type": "markdown",
   "metadata": {},
   "source": [
    "## Low Pass Filter\n",
    "Allows frequency less than $l$ to pass"
   ]
  },
  {
   "cell_type": "code",
   "execution_count": 324,
   "metadata": {},
   "outputs": [],
   "source": [
    "def Filter1(Y,l):\n",
    "    Y_filtered_1=np.zeros(N)\n",
    "    Y_filtered=Y_filtered_1.astype(complex)\n",
    "    for i in range(l):\n",
    "        Y_filtered[i]=Y[i]\n",
    "    y_fil_re=inv_fourier(Y_filtered,N)\n",
    "    if(i==0):\n",
    "        return y_fil_re\n",
    "    return Y_filtered"
   ]
  },
  {
   "cell_type": "markdown",
   "metadata": {},
   "source": [
    "## Amplitude - Based Supression Filter\n",
    "Supresses frequencies whose amplitude in signal's fourier transform is less than $threshold$"
   ]
  },
  {
   "cell_type": "code",
   "execution_count": 325,
   "metadata": {},
   "outputs": [],
   "source": [
    "def Filter2(Y,threshold):\n",
    "    Y_filtered_1=np.zeros(N)\n",
    "    Y_filtered=Y_filtered_1.astype(complex)\n",
    "    for i in range(N):\n",
    "        if(abs(Y[i])<threshold):\n",
    "            Y_filtered[i]=0\n",
    "        else:\n",
    "            Y_filtered[i]=Y[i]-threshold\n",
    "    return Y_filtered"
   ]
  },
  {
   "cell_type": "markdown",
   "metadata": {},
   "source": [
    "## Average Filter \n",
    "Averages $m$ neighbouring points for each data point in a signal"
   ]
  },
  {
   "cell_type": "code",
   "execution_count": 326,
   "metadata": {},
   "outputs": [],
   "source": [
    "def Filter3(Y,m):\n",
    "    Y_filtered_1=np.zeros(N)\n",
    "    Y_filtered=Y_filtered_1.astype(complex)\n",
    "    for i in range(N):\n",
    "        if i<(m-1)//2 :\n",
    "           for j in range(-i,(m+1)//2):\n",
    "            Y_filtered[i]+=Y[j+i]*(1/m)\n",
    "        elif i>N-((m+1)//2):\n",
    "            for j in range(-(m-1)//2,N-i):\n",
    "                Y_filtered[i]+=Y[j+i]*(1/m)   \n",
    "        else:\n",
    "            for j in range(-(m-1)//2,(m+1)//2):\n",
    "                Y_filtered[i]+=Y[j+i]*(1/m)\n",
    "    return Y_filtered"
   ]
  },
  {
   "cell_type": "markdown",
   "metadata": {},
   "source": [
    "## Deblurring Functions\n",
    "* Generates fourier transform of deblurring signal $h[n] = \\frac{1}{16}[1,4,6,4,1]$"
   ]
  },
  {
   "cell_type": "code",
   "execution_count": 327,
   "metadata": {},
   "outputs": [],
   "source": [
    "def deblur(N):\n",
    "    h1=np.array([1, 4, 6, 4, 1] , dtype='complex')\n",
    "    h1=h1/16\n",
    "    h1\n",
    "    h1_in_1=np.zeros(N )\n",
    "    h1_in =h1_in_1.astype(complex)\n",
    "    for i in range(N):\n",
    "        if i<5:\n",
    "            h1_in[i]+=h1[i]\n",
    "    H1 = fourier_translate(h1_in , N,2)\n",
    "    return H1"
   ]
  },
  {
   "cell_type": "markdown",
   "metadata": {},
   "source": [
    "* Finds the fourier transform of deblurred signal"
   ]
  },
  {
   "cell_type": "code",
   "execution_count": 328,
   "metadata": {},
   "outputs": [],
   "source": [
    "def deblurit(Y,N,H1):\n",
    "    Y_deblur_1=np.zeros(N)\n",
    "    Y_deblur=Y_deblur_1.astype(complex)\n",
    "    tolerance=0.0001\n",
    "    for i in range(N):\n",
    "        if(abs(H1[i])>tolerance ):\n",
    "            Y_deblur[i]=Y[i]/H1[i]\n",
    "        else :\n",
    "            Y_deblur[i]=Y[i]/tolerance\n",
    "    #plt.plot(Y_deblur)\n",
    "    return Y_deblur"
   ]
  },
  {
   "cell_type": "markdown",
   "metadata": {},
   "source": [
    "## Root Mean Squared Error"
   ]
  },
  {
   "cell_type": "code",
   "execution_count": 329,
   "metadata": {},
   "outputs": [],
   "source": [
    "def RMSE(x,y):\n",
    "    error=0\n",
    "    for i in range(x.size):\n",
    "        error+=(y[i]-x[i])**2\n",
    "    print(math.sqrt(error/(x.size)))\n",
    "    return (math.sqrt(error/(x.size)))"
   ]
  },
  {
   "cell_type": "markdown",
   "metadata": {},
   "source": [
    "# MAIN CODE\n",
    "## Data Pre - processing"
   ]
  },
  {
   "cell_type": "markdown",
   "metadata": {},
   "source": [
    "## *Importing Data*"
   ]
  },
  {
   "cell_type": "code",
   "execution_count": 330,
   "metadata": {},
   "outputs": [
    {
     "data": {
      "text/html": [
       "<div>\n",
       "<style scoped>\n",
       "    .dataframe tbody tr th:only-of-type {\n",
       "        vertical-align: middle;\n",
       "    }\n",
       "\n",
       "    .dataframe tbody tr th {\n",
       "        vertical-align: top;\n",
       "    }\n",
       "\n",
       "    .dataframe thead th {\n",
       "        text-align: right;\n",
       "    }\n",
       "</style>\n",
       "<table border=\"1\" class=\"dataframe\">\n",
       "  <thead>\n",
       "    <tr style=\"text-align: right;\">\n",
       "      <th></th>\n",
       "      <th>x[n]</th>\n",
       "      <th>y[n]</th>\n",
       "    </tr>\n",
       "  </thead>\n",
       "  <tbody>\n",
       "    <tr>\n",
       "      <th>0</th>\n",
       "      <td>35.4312</td>\n",
       "      <td>33.3735</td>\n",
       "    </tr>\n",
       "    <tr>\n",
       "      <th>1</th>\n",
       "      <td>35.1511</td>\n",
       "      <td>34.3744</td>\n",
       "    </tr>\n",
       "    <tr>\n",
       "      <th>2</th>\n",
       "      <td>34.8284</td>\n",
       "      <td>35.7514</td>\n",
       "    </tr>\n",
       "    <tr>\n",
       "      <th>3</th>\n",
       "      <td>34.4656</td>\n",
       "      <td>35.5869</td>\n",
       "    </tr>\n",
       "    <tr>\n",
       "      <th>4</th>\n",
       "      <td>34.0656</td>\n",
       "      <td>36.0826</td>\n",
       "    </tr>\n",
       "    <tr>\n",
       "      <th>...</th>\n",
       "      <td>...</td>\n",
       "      <td>...</td>\n",
       "    </tr>\n",
       "    <tr>\n",
       "      <th>188</th>\n",
       "      <td>31.4198</td>\n",
       "      <td>33.5967</td>\n",
       "    </tr>\n",
       "    <tr>\n",
       "      <th>189</th>\n",
       "      <td>31.7396</td>\n",
       "      <td>31.7135</td>\n",
       "    </tr>\n",
       "    <tr>\n",
       "      <th>190</th>\n",
       "      <td>32.0228</td>\n",
       "      <td>32.6819</td>\n",
       "    </tr>\n",
       "    <tr>\n",
       "      <th>191</th>\n",
       "      <td>32.2673</td>\n",
       "      <td>30.9260</td>\n",
       "    </tr>\n",
       "    <tr>\n",
       "      <th>192</th>\n",
       "      <td>32.4714</td>\n",
       "      <td>34.7257</td>\n",
       "    </tr>\n",
       "  </tbody>\n",
       "</table>\n",
       "<p>193 rows × 2 columns</p>\n",
       "</div>"
      ],
      "text/plain": [
       "        x[n]     y[n]\n",
       "0    35.4312  33.3735\n",
       "1    35.1511  34.3744\n",
       "2    34.8284  35.7514\n",
       "3    34.4656  35.5869\n",
       "4    34.0656  36.0826\n",
       "..       ...      ...\n",
       "188  31.4198  33.5967\n",
       "189  31.7396  31.7135\n",
       "190  32.0228  32.6819\n",
       "191  32.2673  30.9260\n",
       "192  32.4714  34.7257\n",
       "\n",
       "[193 rows x 2 columns]"
      ]
     },
     "execution_count": 330,
     "metadata": {},
     "output_type": "execute_result"
    }
   ],
   "source": [
    "df = pd.read_csv(\"data.csv\")\n",
    "y=np.array(df[\"y[n]\"])\n",
    "x=np.array(df[\"x[n]\"])\n",
    "df"
   ]
  },
  {
   "cell_type": "markdown",
   "metadata": {},
   "source": [
    "## *Defining Hyperparameters*"
   ]
  },
  {
   "cell_type": "code",
   "execution_count": 331,
   "metadata": {},
   "outputs": [],
   "source": [
    "N=1000   #For periodic extension, fundamental period of n\n",
    "l=50     #For low pass filter, l is the cutoff frequency\n",
    "threshold=67     #Threshold for amplitude based filtering"
   ]
  },
  {
   "cell_type": "markdown",
   "metadata": {},
   "source": [
    "# Low Pass Filtering\n",
    "## *Task 1*"
   ]
  },
  {
   "cell_type": "markdown",
   "metadata": {},
   "source": [
    "![x](./Task_1_LP.png)"
   ]
  },
  {
   "cell_type": "code",
   "execution_count": 332,
   "metadata": {},
   "outputs": [
    {
     "name": "stdout",
     "output_type": "stream",
     "text": [
      "11.182317196512546\n"
     ]
    },
    {
     "name": "stderr",
     "output_type": "stream",
     "text": [
      "<ipython-input-323-8a16483be7f3>:4: ComplexWarning: Casting complex values to real discards the imaginary part\n",
      "  y_out[i]=y[i]\n"
     ]
    },
    {
     "data": {
      "text/plain": [
       "11.182317196512546"
      ]
     },
     "execution_count": 332,
     "metadata": {},
     "output_type": "execute_result"
    },
    {
     "data": {
      "image/png": "[encoded data removed]",
      "text/plain": [
       "<Figure size 432x288 with 1 Axes>"
      ]
     },
     "metadata": {
      "needs_background": "light"
     },
     "output_type": "display_data"
    }
   ],
   "source": [
    "y_periodic_extension=periodic_extension(y,N)\n",
    "Y_periodic_extension=fourier(y_periodic_extension,N)\n",
    "Y_denoise1=Filter1(Y_periodic_extension,l)\n",
    "H=deblur(N)\n",
    "Y_deblur1=deblurit(Y_denoise1,N,H)\n",
    "y_deblur1=inv_fourier(Y_deblur1,N)\n",
    "y_out=retrieve(y_deblur1,y.size)\n",
    "\n",
    "plt.plot(x)\n",
    "plt.plot(y_out)\n",
    "RMSE(x,y_out)"
   ]
  },
  {
   "cell_type": "markdown",
   "metadata": {},
   "source": [
    "## *Task 2*"
   ]
  },
  {
   "cell_type": "markdown",
   "metadata": {},
   "source": [
    "![x](./Task_2_LP.png)"
   ]
  },
  {
   "cell_type": "code",
   "execution_count": 333,
   "metadata": {},
   "outputs": [
    {
     "name": "stdout",
     "output_type": "stream",
     "text": [
      "11.182317196512546\n"
     ]
    },
    {
     "name": "stderr",
     "output_type": "stream",
     "text": [
      "<ipython-input-323-8a16483be7f3>:4: ComplexWarning: Casting complex values to real discards the imaginary part\n",
      "  y_out[i]=y[i]\n"
     ]
    },
    {
     "data": {
      "text/plain": [
       "11.182317196512546"
      ]
     },
     "execution_count": 333,
     "metadata": {},
     "output_type": "execute_result"
    },
    {
     "data": {
      "image/png": "[encoded data removed]",
      "text/plain": [
       "<Figure size 432x288 with 1 Axes>"
      ]
     },
     "metadata": {
      "needs_background": "light"
     },
     "output_type": "display_data"
    }
   ],
   "source": [
    "H=deblur(N)\n",
    "Y_deblur2=deblurit(Y_periodic_extension,N,H)\n",
    "Y_denoise2=Filter1(Y_deblur2,l)\n",
    "y_denoise2=inv_fourier(Y_denoise2,N)\n",
    "y_out2=retrieve(y_denoise2,y.size)\n",
    "\n",
    "plt.plot(x)\n",
    "plt.plot(y_out2)\n",
    "RMSE(x,y_out2)"
   ]
  },
  {
   "cell_type": "markdown",
   "metadata": {},
   "source": [
    "# Amplitude Based Filtering\n",
    "## *Task 1*"
   ]
  },
  {
   "cell_type": "markdown",
   "metadata": {},
   "source": [
    "![x](./Task_1_AB.png)"
   ]
  },
  {
   "cell_type": "code",
   "execution_count": 334,
   "metadata": {},
   "outputs": [
    {
     "name": "stdout",
     "output_type": "stream",
     "text": [
      "2.9484298657619705\n"
     ]
    },
    {
     "name": "stderr",
     "output_type": "stream",
     "text": [
      "<ipython-input-323-8a16483be7f3>:4: ComplexWarning: Casting complex values to real discards the imaginary part\n",
      "  y_out[i]=y[i]\n"
     ]
    },
    {
     "data": {
      "text/plain": [
       "2.9484298657619705"
      ]
     },
     "execution_count": 334,
     "metadata": {},
     "output_type": "execute_result"
    },
    {
     "data": {
      "image/png": "[encoded data removed]",
      "text/plain": [
       "<Figure size 432x288 with 1 Axes>"
      ]
     },
     "metadata": {
      "needs_background": "light"
     },
     "output_type": "display_data"
    }
   ],
   "source": [
    "y_periodic_extension=periodic_extension(y,N)\n",
    "Y_periodic_extension=fourier(y_periodic_extension,N)\n",
    "Y_denoise3=Filter2(Y_periodic_extension,threshold)\n",
    "H=deblur(N)\n",
    "Y_deblur3=deblurit(Y_denoise3,N,H)\n",
    "y_deblur3=inv_fourier(Y_deblur3,N)\n",
    "y_out3=retrieve(y_deblur3,y.size)\n",
    "\n",
    "plt.plot(x)\n",
    "plt.plot(y_out3)\n",
    "RMSE(x,y_out3)"
   ]
  },
  {
   "cell_type": "markdown",
   "metadata": {},
   "source": [
    "## *Task 2*"
   ]
  },
  {
   "cell_type": "markdown",
   "metadata": {},
   "source": [
    "![x](./Task_2_AB.png)"
   ]
  },
  {
   "cell_type": "code",
   "execution_count": 335,
   "metadata": {},
   "outputs": [
    {
     "name": "stdout",
     "output_type": "stream",
     "text": [
      "4486.075046869943\n"
     ]
    },
    {
     "name": "stderr",
     "output_type": "stream",
     "text": [
      "<ipython-input-323-8a16483be7f3>:4: ComplexWarning: Casting complex values to real discards the imaginary part\n",
      "  y_out[i]=y[i]\n"
     ]
    },
    {
     "data": {
      "text/plain": [
       "4486.075046869943"
      ]
     },
     "execution_count": 335,
     "metadata": {},
     "output_type": "execute_result"
    },
    {
     "data": {
      "image/png": "[encoded data removed]",
      "text/plain": [
       "<Figure size 432x288 with 1 Axes>"
      ]
     },
     "metadata": {
      "needs_background": "light"
     },
     "output_type": "display_data"
    }
   ],
   "source": [
    "H=deblur(N)\n",
    "Y_deblur4=deblurit(Y_periodic_extension,N,H)\n",
    "Y_denoise4=Filter2(Y_deblur4,threshold)\n",
    "y_denoise4=inv_fourier(Y_denoise4,N)\n",
    "y_out4=retrieve(y_denoise4,y.size)\n",
    "\n",
    "plt.plot(x)\n",
    "plt.plot(y_out4)\n",
    "RMSE(x,y_out4)"
   ]
  },
  {
   "cell_type": "markdown",
   "metadata": {},
   "source": [
    "# Average Filtering\n",
    "## *Task 1*"
   ]
  },
  {
   "cell_type": "markdown",
   "metadata": {},
   "source": [
    "![x](./Task_1_AF.png)"
   ]
  },
  {
   "cell_type": "code",
   "execution_count": 336,
   "metadata": {},
   "outputs": [
    {
     "name": "stdout",
     "output_type": "stream",
     "text": [
      "972.3896948090614\n"
     ]
    },
    {
     "name": "stderr",
     "output_type": "stream",
     "text": [
      "<ipython-input-323-8a16483be7f3>:4: ComplexWarning: Casting complex values to real discards the imaginary part\n",
      "  y_out[i]=y[i]\n"
     ]
    },
    {
     "data": {
      "text/plain": [
       "972.3896948090614"
      ]
     },
     "execution_count": 336,
     "metadata": {},
     "output_type": "execute_result"
    },
    {
     "data": {
      "image/png": "[encoded data removed]",
      "text/plain": [
       "<Figure size 432x288 with 1 Axes>"
      ]
     },
     "metadata": {
      "needs_background": "light"
     },
     "output_type": "display_data"
    }
   ],
   "source": [
    "y_denoise5=Filter3(y_periodic_extension,10)\n",
    "Y_denoise5=fourier(y_denoise5,N)\n",
    "H=deblur(N)\n",
    "Y_deblur5=deblurit(Y_denoise5,N,H)\n",
    "y_deblur5=inv_fourier(Y_deblur5,N)\n",
    "y_out5=retrieve(y_deblur5,y.size)\n",
    "\n",
    "plt.plot(x)\n",
    "plt.plot(y_out5)\n",
    "RMSE(x,y_out5)"
   ]
  },
  {
   "cell_type": "markdown",
   "metadata": {},
   "source": [
    "## *Task 2*"
   ]
  },
  {
   "cell_type": "markdown",
   "metadata": {},
   "source": [
    "![x](./Task_2_AF.png)"
   ]
  },
  {
   "cell_type": "code",
   "execution_count": 337,
   "metadata": {},
   "outputs": [
    {
     "name": "stdout",
     "output_type": "stream",
     "text": [
      "289.2348457165835\n"
     ]
    },
    {
     "name": "stderr",
     "output_type": "stream",
     "text": [
      "<ipython-input-323-8a16483be7f3>:4: ComplexWarning: Casting complex values to real discards the imaginary part\n",
      "  y_out[i]=y[i]\n"
     ]
    },
    {
     "data": {
      "text/plain": [
       "289.2348457165835"
      ]
     },
     "execution_count": 337,
     "metadata": {},
     "output_type": "execute_result"
    },
    {
     "data": {
      "image/png": "[encoded data removed]",
      "text/plain": [
       "<Figure size 432x288 with 1 Axes>"
      ]
     },
     "metadata": {
      "needs_background": "light"
     },
     "output_type": "display_data"
    }
   ],
   "source": [
    "H=deblur(N)\n",
    "Y_deblur6=deblurit(Y_periodic_extension,N,H)\n",
    "y_deblur6=inv_fourier(Y_deblur6,N)\n",
    "y_denoise6=Filter3(y_deblur6,10)\n",
    "y_out6=retrieve(y_denoise6,y.size)\n",
    "\n",
    "plt.plot(x)\n",
    "plt.plot(y_out6)\n",
    "RMSE(x,y_out6)"
   ]
  }
 ],
 "metadata": {
  "kernelspec": {
   "display_name": "Python 3 (ipykernel)",
   "language": "python",
   "name": "python3"
  },
  "language_info": {
   "codemirror_mode": {
    "name": "ipython",
    "version": 3
   },
   "file_extension": ".py",
   "mimetype": "text/x-python",
   "name": "python",
   "nbconvert_exporter": "python",
   "pygments_lexer": "ipython3",
   "version": "3.9.7"
  }
 },
 "nbformat": 4,
 "nbformat_minor": 4
}
